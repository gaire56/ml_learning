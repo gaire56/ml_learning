{
  "nbformat": 4,
  "nbformat_minor": 0,
  "metadata": {
    "colab": {
      "provenance": [],
      "authorship_tag": "ABX9TyMc4LMThxYan/fRc5XbZ+M2",
      "include_colab_link": true
    },
    "kernelspec": {
      "name": "python3",
      "display_name": "Python 3"
    },
    "language_info": {
      "name": "python"
    }
  },
  "cells": [
    {
      "cell_type": "markdown",
      "metadata": {
        "id": "view-in-github",
        "colab_type": "text"
      },
      "source": [
        "<a href=\"https://colab.research.google.com/github/gaire56/ml_learning/blob/main/maths/Matrix_Operations_in_Python.ipynb\" target=\"_parent\"><img src=\"https://colab.research.google.com/assets/colab-badge.svg\" alt=\"Open In Colab\"/></a>"
      ]
    },
    {
      "cell_type": "markdown",
      "source": [
        "Importing Numpy Library"
      ],
      "metadata": {
        "id": "ob1PihDZNdhF"
      }
    },
    {
      "cell_type": "code",
      "execution_count": 1,
      "metadata": {
        "id": "0TkbLy7vNZlX"
      },
      "outputs": [],
      "source": [
        "import numpy as np"
      ]
    },
    {
      "cell_type": "markdown",
      "source": [
        "Matrix Addition"
      ],
      "metadata": {
        "id": "o5NGIAPvNz70"
      }
    },
    {
      "cell_type": "markdown",
      "source": [
        "Two matrix can be added only if they have the same shape"
      ],
      "metadata": {
        "id": "-WP4ZxotN3ec"
      }
    },
    {
      "cell_type": "code",
      "source": [
        "#Creating two matrices\n",
        "\n",
        "A = np.array([[2,3], [4,5]])\n",
        "print(A)\n",
        "B = np.array([[6,7], [8,9]])\n",
        "print(B)"
      ],
      "metadata": {
        "colab": {
          "base_uri": "https://localhost:8080/"
        },
        "id": "vM59iuRDNyyo",
        "outputId": "88017510-4f74-4ea5-ce35-6444209a46d4"
      },
      "execution_count": 6,
      "outputs": [
        {
          "output_type": "stream",
          "name": "stdout",
          "text": [
            "[[2 3]\n",
            " [4 5]]\n",
            "[[6 7]\n",
            " [8 9]]\n"
          ]
        }
      ]
    },
    {
      "cell_type": "code",
      "source": [
        "A.shape"
      ],
      "metadata": {
        "colab": {
          "base_uri": "https://localhost:8080/"
        },
        "id": "xFnNheOvOIsT",
        "outputId": "43cd85b1-5f28-4231-ed85-5c470a84d0f3"
      },
      "execution_count": 7,
      "outputs": [
        {
          "output_type": "execute_result",
          "data": {
            "text/plain": [
              "(2, 2)"
            ]
          },
          "metadata": {},
          "execution_count": 7
        }
      ]
    },
    {
      "cell_type": "code",
      "source": [
        "B.shape"
      ],
      "metadata": {
        "colab": {
          "base_uri": "https://localhost:8080/"
        },
        "id": "Vgu2uB9wOkWw",
        "outputId": "5f941074-4720-450b-87dc-c83c9eeabab0"
      },
      "execution_count": 8,
      "outputs": [
        {
          "output_type": "execute_result",
          "data": {
            "text/plain": [
              "(2, 2)"
            ]
          },
          "metadata": {},
          "execution_count": 8
        }
      ]
    },
    {
      "cell_type": "markdown",
      "source": [
        "Adding two matrices"
      ],
      "metadata": {
        "id": "pwbaNT0COsSB"
      }
    },
    {
      "cell_type": "code",
      "source": [
        "sum = A +B\n",
        "print(sum)"
      ],
      "metadata": {
        "colab": {
          "base_uri": "https://localhost:8080/"
        },
        "id": "rHw34sfFOlye",
        "outputId": "0f43be89-2736-4cd4-e6ef-4f8a5af6eca0"
      },
      "execution_count": 9,
      "outputs": [
        {
          "output_type": "stream",
          "name": "stdout",
          "text": [
            "[[ 8 10]\n",
            " [12 14]]\n"
          ]
        }
      ]
    },
    {
      "cell_type": "code",
      "source": [
        "# create two matrices with random values\n",
        "matrix_1 = np.random.randint(10, size=(3,3))\n",
        "matrix_2 = np.random.randint(10, size=(3,3))\n",
        "print(matrix_1)\n",
        "print(matrix_2)"
      ],
      "metadata": {
        "colab": {
          "base_uri": "https://localhost:8080/"
        },
        "id": "A5bWQok2Oyz2",
        "outputId": "9e04c4b9-a78c-4071-941e-a1efb46fb48b"
      },
      "execution_count": 10,
      "outputs": [
        {
          "output_type": "stream",
          "name": "stdout",
          "text": [
            "[[7 5 4]\n",
            " [6 5 1]\n",
            " [0 5 9]]\n",
            "[[8 1 7]\n",
            " [4 7 8]\n",
            " [2 6 1]]\n"
          ]
        }
      ]
    },
    {
      "cell_type": "code",
      "source": [
        "sum = np.add(matrix_1, matrix_2) #this is how we can add two matrix\n",
        "print(sum)"
      ],
      "metadata": {
        "colab": {
          "base_uri": "https://localhost:8080/"
        },
        "id": "fMmHP0LqPCjZ",
        "outputId": "759664bd-4d08-4866-d979-b389dde2c62e"
      },
      "execution_count": 11,
      "outputs": [
        {
          "output_type": "stream",
          "name": "stdout",
          "text": [
            "[[15  6 11]\n",
            " [10 12  9]\n",
            " [ 2 11 10]]\n"
          ]
        }
      ]
    },
    {
      "cell_type": "code",
      "source": [
        "matrix_3 = np.random.randint(10, size=(3,3)) # this is 3X3 matrix\n",
        "matrix_4 = np.random.randint(10, size=(3,4)) #this is 3X4 matrix\n",
        "print(matrix_3)\n",
        "print(matrix_4)"
      ],
      "metadata": {
        "colab": {
          "base_uri": "https://localhost:8080/"
        },
        "id": "J8wP2O0OPgr1",
        "outputId": "7ea2a298-f024-4175-f5e4-a88c6dfcad8d"
      },
      "execution_count": 12,
      "outputs": [
        {
          "output_type": "stream",
          "name": "stdout",
          "text": [
            "[[7 5 3]\n",
            " [1 0 8]\n",
            " [7 4 5]]\n",
            "[[2 4 9 9]\n",
            " [7 8 0 7]\n",
            " [8 1 2 1]]\n"
          ]
        }
      ]
    },
    {
      "cell_type": "code",
      "source": [
        "sum2 = np.add(matrix_1, matrix_2) #we cannot add these two matrix because they have different shape\n",
        "print(sum2)"
      ],
      "metadata": {
        "id": "L1UWU_NDPtiC"
      },
      "execution_count": null,
      "outputs": []
    },
    {
      "cell_type": "markdown",
      "source": [
        "We get error because shape of matrix_3 and matrix_4 are different"
      ],
      "metadata": {
        "id": "O2HXhqMKQKND"
      }
    },
    {
      "cell_type": "markdown",
      "source": [
        "Matrix Subtraction"
      ],
      "metadata": {
        "id": "Q6awGENeQTqh"
      }
    },
    {
      "cell_type": "code",
      "source": [
        "#creating two matrix\n",
        "A = np.array([[2,3], [4,5]])\n",
        "print(A)\n",
        "B = np.array([[6,7], [8,9]])\n",
        "print(B)"
      ],
      "metadata": {
        "colab": {
          "base_uri": "https://localhost:8080/"
        },
        "id": "GnQbvwkmQITr",
        "outputId": "a2ff7e03-ac91-4089-c260-c38f9e3ac758"
      },
      "execution_count": 15,
      "outputs": [
        {
          "output_type": "stream",
          "name": "stdout",
          "text": [
            "[[2 3]\n",
            " [4 5]]\n",
            "[[6 7]\n",
            " [8 9]]\n"
          ]
        }
      ]
    },
    {
      "cell_type": "code",
      "source": [
        "difference = B - A\n",
        "print(difference)"
      ],
      "metadata": {
        "colab": {
          "base_uri": "https://localhost:8080/"
        },
        "id": "C9DTUGZLQXiS",
        "outputId": "0e3e46b6-4980-418e-8f2c-5294fae81f2d"
      },
      "execution_count": 16,
      "outputs": [
        {
          "output_type": "stream",
          "name": "stdout",
          "text": [
            "[[4 4]\n",
            " [4 4]]\n"
          ]
        }
      ]
    },
    {
      "cell_type": "code",
      "source": [
        "# create two matrices with random values\n",
        "matrix_1 = np.random.randint(100, size=(3,3))\n",
        "matrix_2 = np.random.randint(10, size=(3,3))\n",
        "print(matrix_1)\n",
        "print(matrix_2)"
      ],
      "metadata": {
        "colab": {
          "base_uri": "https://localhost:8080/"
        },
        "id": "68dRR-KNQhMq",
        "outputId": "e5119eac-43a9-4ea5-e327-ef60b07f5482"
      },
      "execution_count": 19,
      "outputs": [
        {
          "output_type": "stream",
          "name": "stdout",
          "text": [
            "[[79 28 53]\n",
            " [ 3 74 19]\n",
            " [88 94 27]]\n",
            "[[4 7 7]\n",
            " [4 4 5]\n",
            " [3 6 6]]\n"
          ]
        }
      ]
    },
    {
      "cell_type": "code",
      "source": [
        "diff = np.subtract(matrix_1, matrix_2)\n",
        "print(diff)"
      ],
      "metadata": {
        "colab": {
          "base_uri": "https://localhost:8080/"
        },
        "id": "IQqRGsePQmth",
        "outputId": "98a2da2e-dee7-4def-b862-2a35caca0333"
      },
      "execution_count": 20,
      "outputs": [
        {
          "output_type": "stream",
          "name": "stdout",
          "text": [
            "[[75 21 46]\n",
            " [-1 70 14]\n",
            " [85 88 21]]\n"
          ]
        }
      ]
    },
    {
      "cell_type": "markdown",
      "source": [
        "we cannot subtract if two matrix have different shape"
      ],
      "metadata": {
        "id": "mfruz-x0RBF8"
      }
    },
    {
      "cell_type": "markdown",
      "source": [
        "Multiplying a matrix by a scalar"
      ],
      "metadata": {
        "id": "ShZMBSU0RVsz"
      }
    },
    {
      "cell_type": "code",
      "source": [
        "x = 5\n",
        "y = np.random.randint(10, size=(4,3))\n",
        "print(y)"
      ],
      "metadata": {
        "colab": {
          "base_uri": "https://localhost:8080/"
        },
        "id": "csosuCEfQ0Du",
        "outputId": "b15ea850-e18a-44cf-9362-d1879f142816"
      },
      "execution_count": 22,
      "outputs": [
        {
          "output_type": "stream",
          "name": "stdout",
          "text": [
            "[[4 9 4]\n",
            " [1 7 1]\n",
            " [0 0 2]\n",
            " [7 1 7]]\n"
          ]
        }
      ]
    },
    {
      "cell_type": "code",
      "source": [
        "product = np.multiply(x, y)\n",
        "print(product)"
      ],
      "metadata": {
        "colab": {
          "base_uri": "https://localhost:8080/"
        },
        "id": "TVFbbGRyRjXo",
        "outputId": "f58fc33d-6f23-4ec8-d018-c4cfaa2d5658"
      },
      "execution_count": 23,
      "outputs": [
        {
          "output_type": "stream",
          "name": "stdout",
          "text": [
            "[[20 45 20]\n",
            " [ 5 35  5]\n",
            " [ 0  0 10]\n",
            " [35  5 35]]\n"
          ]
        }
      ]
    },
    {
      "cell_type": "markdown",
      "source": [
        "Multiplying 2 Matrices"
      ],
      "metadata": {
        "id": "R0UE3KTjR1cn"
      }
    },
    {
      "cell_type": "code",
      "source": [
        "# create two matrices with random values\n",
        "matrix_1 = np.random.randint(10, size=(4,3))\n",
        "matrix_2 = np.random.randint(10, size=(3,4))\n",
        "print(matrix_1)\n",
        "print(matrix_2)"
      ],
      "metadata": {
        "colab": {
          "base_uri": "https://localhost:8080/"
        },
        "id": "C6JwILNDRvFG",
        "outputId": "cf5b3667-96ea-4b12-c3b4-d50f329ad8f2"
      },
      "execution_count": 24,
      "outputs": [
        {
          "output_type": "stream",
          "name": "stdout",
          "text": [
            "[[4 8 2]\n",
            " [3 5 5]\n",
            " [7 8 6]\n",
            " [5 7 5]]\n",
            "[[9 0 0 6]\n",
            " [0 7 2 0]\n",
            " [0 4 0 9]]\n"
          ]
        }
      ]
    },
    {
      "cell_type": "code",
      "source": [
        "product = np.dot(matrix_1, matrix_2)\n",
        "print(product)"
      ],
      "metadata": {
        "colab": {
          "base_uri": "https://localhost:8080/"
        },
        "id": "B_x05eiTSfaT",
        "outputId": "501a8858-a893-48d6-d5ec-566e7082f2da"
      },
      "execution_count": 26,
      "outputs": [
        {
          "output_type": "stream",
          "name": "stdout",
          "text": [
            "[[36 64 16 42]\n",
            " [27 55 10 63]\n",
            " [63 80 16 96]\n",
            " [45 69 14 75]]\n"
          ]
        }
      ]
    },
    {
      "cell_type": "code",
      "source": [
        "product.shape"
      ],
      "metadata": {
        "colab": {
          "base_uri": "https://localhost:8080/"
        },
        "id": "pRXNV8u3Sk2y",
        "outputId": "94881d53-3427-4a2e-8886-9049fa8553a9"
      },
      "execution_count": 27,
      "outputs": [
        {
          "output_type": "execute_result",
          "data": {
            "text/plain": [
              "(4, 4)"
            ]
          },
          "metadata": {},
          "execution_count": 27
        }
      ]
    },
    {
      "cell_type": "markdown",
      "source": [
        "Element wise Matrix multiplication"
      ],
      "metadata": {
        "id": "0VmrpQQ6w7TW"
      }
    },
    {
      "cell_type": "code",
      "source": [
        "#create two matrices with random values\n",
        "matrix_3 = np.random.randint(10, size=(3,3))\n",
        "matrix_4 = np.random.randint(10, size=(3,3))\n",
        "print(matrix_3)\n",
        "print(matrix_4)"
      ],
      "metadata": {
        "colab": {
          "base_uri": "https://localhost:8080/"
        },
        "id": "oBvXcu5Dw5u3",
        "outputId": "e9706adb-331e-413d-e506-f4012382f45f"
      },
      "execution_count": 29,
      "outputs": [
        {
          "output_type": "stream",
          "name": "stdout",
          "text": [
            "[[6 1 8]\n",
            " [4 1 4]\n",
            " [1 5 3]]\n",
            "[[0 9 5]\n",
            " [0 9 3]\n",
            " [0 4 9]]\n"
          ]
        }
      ]
    },
    {
      "cell_type": "code",
      "source": [
        "product = np.multiply(matrix_3, matrix_4)\n",
        "print(product)"
      ],
      "metadata": {
        "colab": {
          "base_uri": "https://localhost:8080/"
        },
        "id": "YOAamYqDSyql",
        "outputId": "8cc0d4db-9ca7-422a-e525-d51c7f3bcfb1"
      },
      "execution_count": 30,
      "outputs": [
        {
          "output_type": "stream",
          "name": "stdout",
          "text": [
            "[[ 0  9 40]\n",
            " [ 0  9 12]\n",
            " [ 0 20 27]]\n"
          ]
        }
      ]
    },
    {
      "cell_type": "code",
      "source": [],
      "metadata": {
        "id": "EpZcSxtDwm9K"
      },
      "execution_count": null,
      "outputs": []
    }
  ]
}